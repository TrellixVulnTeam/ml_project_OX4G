{
 "cells": [
  {
   "cell_type": "code",
   "execution_count": 10,
   "metadata": {},
   "outputs": [],
   "source": [
    "import pandas as pd"
   ]
  },
  {
   "cell_type": "code",
   "execution_count": 11,
   "metadata": {},
   "outputs": [],
   "source": [
    "import os\n"
   ]
  },
  {
   "cell_type": "code",
   "execution_count": 12,
   "metadata": {},
   "outputs": [
    {
     "data": {
      "text/plain": [
       "'c:\\\\Users\\\\khush\\\\Desktop\\\\ML_Project\\\\ml_project\\\\notebook'"
      ]
     },
     "execution_count": 12,
     "metadata": {},
     "output_type": "execute_result"
    }
   ],
   "source": [
    "os.getcwd()"
   ]
  },
  {
   "cell_type": "code",
   "execution_count": 13,
   "metadata": {},
   "outputs": [],
   "source": [
    "os.chdir(\"c:\\\\Users\\\\khush\\\\Desktop\\\\ML_Project\\\\ml_project\")"
   ]
  },
  {
   "cell_type": "code",
   "execution_count": 14,
   "metadata": {},
   "outputs": [],
   "source": [
    "data = r\"C:\\Users\\khush\\Desktop\\ML_Project\\ml_project\\housing\\artifact\\data_ingestion\\2022-08-15-13-49-20\\raw_data\\housing.csv\""
   ]
  },
  {
   "cell_type": "code",
   "execution_count": 15,
   "metadata": {},
   "outputs": [],
   "source": [
    "df = pd.read_csv(data)"
   ]
  },
  {
   "cell_type": "code",
   "execution_count": 16,
   "metadata": {},
   "outputs": [],
   "source": [
    "X,y = df.drop(columns=[\"median_income\"],axis=1),df[[\"median_income\"]]"
   ]
  },
  {
   "cell_type": "code",
   "execution_count": 15,
   "metadata": {},
   "outputs": [
    {
     "data": {
      "text/plain": [
       "(20640, 9)"
      ]
     },
     "execution_count": 15,
     "metadata": {},
     "output_type": "execute_result"
    }
   ],
   "source": [
    "X.shape"
   ]
  },
  {
   "cell_type": "code",
   "execution_count": 21,
   "metadata": {},
   "outputs": [
    {
     "data": {
      "text/plain": [
       "pandas.core.frame.DataFrame"
      ]
     },
     "execution_count": 21,
     "metadata": {},
     "output_type": "execute_result"
    }
   ],
   "source": [
    "type(y)"
   ]
  },
  {
   "cell_type": "code",
   "execution_count": 17,
   "metadata": {},
   "outputs": [
    {
     "data": {
      "text/plain": [
       "longitude               0\n",
       "latitude                0\n",
       "housing_median_age      0\n",
       "total_rooms             0\n",
       "total_bedrooms        207\n",
       "population              0\n",
       "households              0\n",
       "median_house_value      0\n",
       "ocean_proximity         0\n",
       "dtype: int64"
      ]
     },
     "execution_count": 17,
     "metadata": {},
     "output_type": "execute_result"
    }
   ],
   "source": [
    "X.isna().sum()"
   ]
  },
  {
   "cell_type": "code",
   "execution_count": 2,
   "metadata": {},
   "outputs": [],
   "source": [
    "from sklearn.impute import SimpleImputer"
   ]
  },
  {
   "cell_type": "code",
   "execution_count": 18,
   "metadata": {},
   "outputs": [],
   "source": [
    "numerical_columns_list = [col for col,colType in X.dtypes.iteritems() if colType != 'O']\n",
    "categorical_columns_list = [col for col,colType in X.dtypes.iteritems() if colType == 'O']\n",
    "    \n",
    "\n",
    "    "
   ]
  },
  {
   "cell_type": "code",
   "execution_count": 19,
   "metadata": {},
   "outputs": [],
   "source": [
    "null_numerical_columns_list = [col for col,colType in X.dtypes.iteritems() if colType != 'O' and X[col].isna().sum() > 0]\n",
    "null_categorical_columns_list = [col for col,colType in X.dtypes.iteritems() if colType == 'O' and X[col].isna().sum() > 0]\n",
    "            \n",
    "    "
   ]
  },
  {
   "cell_type": "code",
   "execution_count": 20,
   "metadata": {},
   "outputs": [],
   "source": [
    "s = SimpleImputer(strategy=\"median\")"
   ]
  },
  {
   "cell_type": "code",
   "execution_count": 23,
   "metadata": {},
   "outputs": [
    {
     "data": {
      "text/plain": [
       "array([[-1.2223e+02,  3.7880e+01,  4.1000e+01, ...,  3.2200e+02,\n",
       "         1.2600e+02,  4.5260e+05],\n",
       "       [-1.2222e+02,  3.7860e+01,  2.1000e+01, ...,  2.4010e+03,\n",
       "         1.1380e+03,  3.5850e+05],\n",
       "       [-1.2224e+02,  3.7850e+01,  5.2000e+01, ...,  4.9600e+02,\n",
       "         1.7700e+02,  3.5210e+05],\n",
       "       ...,\n",
       "       [-1.2122e+02,  3.9430e+01,  1.7000e+01, ...,  1.0070e+03,\n",
       "         4.3300e+02,  9.2300e+04],\n",
       "       [-1.2132e+02,  3.9430e+01,  1.8000e+01, ...,  7.4100e+02,\n",
       "         3.4900e+02,  8.4700e+04],\n",
       "       [-1.2124e+02,  3.9370e+01,  1.6000e+01, ...,  1.3870e+03,\n",
       "         5.3000e+02,  8.9400e+04]])"
      ]
     },
     "execution_count": 23,
     "metadata": {},
     "output_type": "execute_result"
    }
   ],
   "source": [
    "s.fit_transform(df[numerical_columns_list])"
   ]
  },
  {
   "cell_type": "code",
   "execution_count": 26,
   "metadata": {},
   "outputs": [
    {
     "data": {
      "text/plain": [
       "array([[-1.2223e+02,  3.7880e+01,  4.1000e+01, ...,  3.2200e+02,\n",
       "         1.2600e+02,  4.5260e+05],\n",
       "       [-1.2222e+02,  3.7860e+01,  2.1000e+01, ...,  2.4010e+03,\n",
       "         1.1380e+03,  3.5850e+05],\n",
       "       [-1.2224e+02,  3.7850e+01,  5.2000e+01, ...,  4.9600e+02,\n",
       "         1.7700e+02,  3.5210e+05],\n",
       "       ...,\n",
       "       [-1.2122e+02,  3.9430e+01,  1.7000e+01, ...,  1.0070e+03,\n",
       "         4.3300e+02,  9.2300e+04],\n",
       "       [-1.2132e+02,  3.9430e+01,  1.8000e+01, ...,  7.4100e+02,\n",
       "         3.4900e+02,  8.4700e+04],\n",
       "       [-1.2124e+02,  3.9370e+01,  1.6000e+01, ...,  1.3870e+03,\n",
       "         5.3000e+02,  8.9400e+04]])"
      ]
     },
     "execution_count": 26,
     "metadata": {},
     "output_type": "execute_result"
    }
   ],
   "source": [
    "s.transform(df[numerical_columns_list])"
   ]
  },
  {
   "cell_type": "code",
   "execution_count": 28,
   "metadata": {},
   "outputs": [
    {
     "data": {
      "text/plain": [
       "array([-1.1849e+02,  3.4260e+01,  2.9000e+01,  2.1270e+03,  4.3500e+02,\n",
       "        1.1660e+03,  4.0900e+02,  1.7970e+05])"
      ]
     },
     "execution_count": 28,
     "metadata": {},
     "output_type": "execute_result"
    }
   ],
   "source": [
    "s.statistics_"
   ]
  },
  {
   "cell_type": "code",
   "execution_count": 29,
   "metadata": {},
   "outputs": [
    {
     "data": {
      "text/plain": [
       "array(['longitude', 'latitude', 'housing_median_age', 'total_rooms',\n",
       "       'total_bedrooms', 'population', 'households', 'median_house_value'],\n",
       "      dtype=object)"
      ]
     },
     "execution_count": 29,
     "metadata": {},
     "output_type": "execute_result"
    }
   ],
   "source": [
    "s.feature_names_in_"
   ]
  },
  {
   "cell_type": "code",
   "execution_count": 32,
   "metadata": {},
   "outputs": [
    {
     "data": {
      "text/plain": [
       "179700.0"
      ]
     },
     "execution_count": 32,
     "metadata": {},
     "output_type": "execute_result"
    }
   ],
   "source": [
    "df['median_house_value'].median()"
   ]
  },
  {
   "cell_type": "code",
   "execution_count": null,
   "metadata": {},
   "outputs": [],
   "source": [
    "class FeatureGenerator:\n",
    "    def __init__(self):\n",
    "        pass\n",
    "\n",
    "    def fit(self,X):\n",
    "        pass\n",
    "\n",
    "    def transform(self,X):\n",
    "        pass\n",
    "\n",
    "    def fit_transform(self,X):\n",
    "        pass\n",
    "\n",
    "\n",
    "\n"
   ]
  }
 ],
 "metadata": {
  "kernelspec": {
   "display_name": "Python 3.9.7 64-bit",
   "language": "python",
   "name": "python3"
  },
  "language_info": {
   "codemirror_mode": {
    "name": "ipython",
    "version": 3
   },
   "file_extension": ".py",
   "mimetype": "text/x-python",
   "name": "python",
   "nbconvert_exporter": "python",
   "pygments_lexer": "ipython3",
   "version": "3.9.7"
  },
  "orig_nbformat": 4,
  "vscode": {
   "interpreter": {
    "hash": "13ba3db9171f14781b373e8a9318376d773c8b2e8833c9d09af82a6e5e816022"
   }
  }
 },
 "nbformat": 4,
 "nbformat_minor": 2
}
